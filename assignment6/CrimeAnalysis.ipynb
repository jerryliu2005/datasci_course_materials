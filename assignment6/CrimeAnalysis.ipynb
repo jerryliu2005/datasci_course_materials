{
 "cells": [
  {
   "cell_type": "markdown",
   "metadata": {},
   "source": [
    "# Pronto Cycleshare"
   ]
  },
  {
   "cell_type": "code",
   "execution_count": 2,
   "metadata": {
    "collapsed": false
   },
   "outputs": [],
   "source": [
    "%matplotlib inline\n",
    "import matplotlib.pyplot as plt\n",
    "import pandas as pd\n",
    "import numpy as np\n",
    "import seaborn as sns; sns.set()\n",
    "import json\n",
    "import os"
   ]
  },
  {
   "cell_type": "markdown",
   "metadata": {},
   "source": [
    "## Downloading Pronto's Data\n",
    "\n",
    "- Data release page: http://www.prontocycleshare.com/datachallenge"
   ]
  },
  {
   "cell_type": "code",
   "execution_count": null,
   "metadata": {
    "collapsed": false
   },
   "outputs": [],
   "source": [
    "if not os.path.exists('open_data_year_one.zip'):\n",
    "    !curl -O https://s3.amazonaws.com/pronto-data/open_data_year_one.zip\n",
    "    !unzip open_data_year_one.zip\n",
    "if not os.path.exists('figs'):\n",
    "    os.makedirs('figs')"
   ]
  },
  {
   "cell_type": "code",
   "execution_count": 9,
   "metadata": {
    "collapsed": false
   },
   "outputs": [
    {
     "data": {
      "text/plain": [
       "Index([u'trip_id', u'starttime', u'stoptime', u'bikeid', u'tripduration',\n",
       "       u'from_station_name', u'to_station_name', u'from_station_id',\n",
       "       u'to_station_id', u'usertype', u'gender', u'birthyear'],\n",
       "      dtype='object')"
      ]
     },
     "execution_count": 9,
     "metadata": {},
     "output_type": "execute_result"
    }
   ],
   "source": [
    "trips = pd.read_csv('2015_trip_data.csv',\n",
    "                    parse_dates=['starttime', 'stoptime'],\n",
    "                    infer_datetime_format=True)\n",
    "trips.columns"
   ]
  },
  {
   "cell_type": "markdown",
   "metadata": {},
   "source": [
    "## Exploring Trips over Time"
   ]
  },
  {
   "cell_type": "markdown",
   "metadata": {},
   "source": [
    "### Trips Over the Year"
   ]
  },
  {
   "cell_type": "code",
   "execution_count": 10,
   "metadata": {
    "collapsed": false
   },
   "outputs": [],
   "source": [
    "# Find the start date\n",
    "ind = pd.DatetimeIndex(trips.starttime)\n",
    "trips['date'] = ind.date.astype('datetime64')\n",
    "trips['hour'] = ind.hour"
   ]
  },
  {
   "cell_type": "code",
   "execution_count": null,
   "metadata": {
    "collapsed": false
   },
   "outputs": [],
   "source": [
    "# Count trips by date\n",
    "by_date = trips.pivot_table('trip_id', aggfunc='count',\n",
    "                            index='date',\n",
    "                            columns='usertype', )\n",
    "\n",
    "# Count trips by weekday\n",
    "weekly = by_date.pivot_table(['Annual Member', 'Short-Term Pass Holder'],\n",
    "                             index=by_date.index.weekofyear,\n",
    "                             columns=by_date.index.dayofweek)"
   ]
  },
  {
   "cell_type": "code",
   "execution_count": null,
   "metadata": {
    "collapsed": false,
    "scrolled": true
   },
   "outputs": [],
   "source": [
    "by_date.sort_values('Short-Term Pass Holder', ascending=False)"
   ]
  },
  {
   "cell_type": "code",
   "execution_count": null,
   "metadata": {
    "collapsed": false
   },
   "outputs": [],
   "source": [
    "fig, ax = plt.subplots(2, 1, figsize=(16, 8), sharex=True, sharey=True)\n",
    "fig.subplots_adjust(hspace=0.1)\n",
    "\n",
    "def add_inset(ax, rect, *args, **kwargs):\n",
    "    box = ax.get_position()\n",
    "    inax_position = ax.transAxes.transform(rect[0:2])\n",
    "    infig_position = ax.figure.transFigure.inverted().transform(inax_position)\n",
    "    new_rect = list(infig_position) + [box.width * rect[2], box.height * rect[3]]\n",
    "    return fig.add_axes(new_rect, *args, **kwargs)\n",
    "\n",
    "color_cycle = plt.rcParams['axes.color_cycle']\n",
    "for i, col in enumerate(['Annual Member', 'Short-Term Pass Holder']):\n",
    "    by_date[col].plot(ax=ax[i], title=col, color=color_cycle[i])\n",
    "    ax[i].set_title(col + 's')\n",
    "\n",
    "with sns.axes_style('whitegrid'):\n",
    "    inset = [add_inset(ax[0], [0.07, 0.6, 0.2, 0.32]),\n",
    "             add_inset(ax[1], [0.07, 0.6, 0.2, 0.32])]\n",
    "\n",
    "for i, col in enumerate(['Annual Member', 'Short-Term Pass Holder']):\n",
    "    inset[i].plot(range(7), weekly[col].values.T, color=color_cycle[i], lw=2, alpha=0.05);\n",
    "    inset[i].plot(range(7), weekly[col].mean(0), color=color_cycle[i], lw=3)\n",
    "    inset[i].set_xticklabels(['Mon', 'Tues', 'Wed', 'Thurs', 'Fri', 'Sat', 'Sun'])\n",
    "    inset[i].yaxis.set_major_locator(plt.MaxNLocator(5))\n",
    "    inset[i].set_ylim(0, 500)\n",
    "    inset[i].set_title('Average by Day of Week')\n",
    "    \n",
    "fig.savefig('figs/daily_trend.png', bbox_inches='tight')"
   ]
  },
  {
   "cell_type": "markdown",
   "metadata": {},
   "source": [
    "### Trips Over a Day"
   ]
  },
  {
   "cell_type": "code",
   "execution_count": null,
   "metadata": {
    "collapsed": false
   },
   "outputs": [],
   "source": [
    "ind = pd.DatetimeIndex(trips.date)\n",
    "ind.dayofweek"
   ]
  },
  {
   "cell_type": "code",
   "execution_count": null,
   "metadata": {
    "collapsed": false
   },
   "outputs": [],
   "source": [
    "trips['weekend'] = (ind.dayofweek > 4)\n",
    "hourly = trips.pivot_table('trip_id', aggfunc='count',\n",
    "                           index=['date'], columns=['usertype', 'weekend', 'hour'])\n",
    "fig, ax = plt.subplots(1, 2, figsize=(16, 6), sharex=True, sharey=True)\n",
    "fig.subplots_adjust(wspace=0.1)\n",
    "fmt = plt.FuncFormatter(lambda x, *args: '{0}:00'.format(int(x)))\n",
    "\n",
    "for weekend in (False, True):\n",
    "    axi = ax[int(weekend)]\n",
    "    for i, col in enumerate(['Annual Member', 'Short-Term Pass Holder']):\n",
    "        vals = hourly[col][weekend].values\n",
    "        vals = np.hstack([vals, vals[:, :1]])\n",
    "        axi.plot(range(25), vals.T,\n",
    "                 color=color_cycle[i], lw=1, alpha=0.05)\n",
    "        axi.plot(range(25), np.nanmean(vals, 0),\n",
    "                 color=color_cycle[i], lw=3, label=col)\n",
    "    axi.xaxis.set_major_locator(plt.MultipleLocator(4))\n",
    "    axi.xaxis.set_major_formatter(fmt)\n",
    "    axi.set_ylim(0, 60)\n",
    "    axi.set_title('Saturday - Sunday' if weekend else 'Monday - Friday')\n",
    "    axi.legend(loc='upper left')\n",
    "    axi.set_xlabel('Time of Day')\n",
    "ax[0].set_ylabel('Number of Trips')\n",
    "fig.suptitle('Hourly Trends: Weekdays and Weekends', size=14);\n",
    "\n",
    "fig.savefig('figs/hourly_trend.png', bbox_inches='tight')"
   ]
  },
  {
   "cell_type": "markdown",
   "metadata": {},
   "source": [
    "## Trip Distances & Rider Speed"
   ]
  },
  {
   "cell_type": "code",
   "execution_count": 3,
   "metadata": {
    "collapsed": false
   },
   "outputs": [
    {
     "data": {
      "text/html": [
       "<div>\n",
       "<table border=\"1\" class=\"dataframe\">\n",
       "  <thead>\n",
       "    <tr style=\"text-align: right;\">\n",
       "      <th></th>\n",
       "      <th>id</th>\n",
       "      <th>name</th>\n",
       "      <th>terminal</th>\n",
       "      <th>lat</th>\n",
       "      <th>long</th>\n",
       "      <th>dockcount</th>\n",
       "      <th>online</th>\n",
       "    </tr>\n",
       "  </thead>\n",
       "  <tbody>\n",
       "    <tr>\n",
       "      <th>0</th>\n",
       "      <td>1</td>\n",
       "      <td>3rd Ave &amp; Broad St</td>\n",
       "      <td>BT-01</td>\n",
       "      <td>47.618418</td>\n",
       "      <td>-122.350964</td>\n",
       "      <td>18</td>\n",
       "      <td>10/13/2014</td>\n",
       "    </tr>\n",
       "    <tr>\n",
       "      <th>1</th>\n",
       "      <td>2</td>\n",
       "      <td>2nd Ave &amp; Vine St</td>\n",
       "      <td>BT-03</td>\n",
       "      <td>47.615829</td>\n",
       "      <td>-122.348564</td>\n",
       "      <td>16</td>\n",
       "      <td>10/13/2014</td>\n",
       "    </tr>\n",
       "    <tr>\n",
       "      <th>2</th>\n",
       "      <td>3</td>\n",
       "      <td>6th Ave &amp; Blanchard St</td>\n",
       "      <td>BT-04</td>\n",
       "      <td>47.616094</td>\n",
       "      <td>-122.341102</td>\n",
       "      <td>16</td>\n",
       "      <td>10/13/2014</td>\n",
       "    </tr>\n",
       "    <tr>\n",
       "      <th>3</th>\n",
       "      <td>4</td>\n",
       "      <td>2nd Ave &amp; Blanchard St</td>\n",
       "      <td>BT-05</td>\n",
       "      <td>47.613110</td>\n",
       "      <td>-122.344208</td>\n",
       "      <td>14</td>\n",
       "      <td>10/13/2014</td>\n",
       "    </tr>\n",
       "  </tbody>\n",
       "</table>\n",
       "</div>"
      ],
      "text/plain": [
       "   id                    name terminal        lat        long  dockcount  \\\n",
       "0   1      3rd Ave & Broad St    BT-01  47.618418 -122.350964         18   \n",
       "1   2       2nd Ave & Vine St    BT-03  47.615829 -122.348564         16   \n",
       "2   3  6th Ave & Blanchard St    BT-04  47.616094 -122.341102         16   \n",
       "3   4  2nd Ave & Blanchard St    BT-05  47.613110 -122.344208         14   \n",
       "\n",
       "       online  \n",
       "0  10/13/2014  \n",
       "1  10/13/2014  \n",
       "2  10/13/2014  \n",
       "3  10/13/2014  "
      ]
     },
     "execution_count": 3,
     "metadata": {},
     "output_type": "execute_result"
    }
   ],
   "source": [
    "stations = pd.read_csv('2015_station_data.csv')\n",
    "pronto_shop = dict(id=54, name=\"Pronto shop\",\n",
    "                   terminal=\"Pronto shop\",\n",
    "                   lat=47.6173156, long=-122.3414776,\n",
    "                   dockcount=100, online='10/13/2014')\n",
    "stations = stations.append(pronto_shop, ignore_index=True)\n",
    "stations.iloc[:4,]\n",
    "#len(stations.terminal[:-1])\n"
   ]
  },
  {
   "cell_type": "code",
   "execution_count": null,
   "metadata": {
    "collapsed": true
   },
   "outputs": [],
   "source": [
    "# Here we query the Google Maps API for distances between trips\n",
    "\n",
    "from time import sleep\n",
    "\n",
    "def query_distances(stations=stations):\n",
    "    \"\"\"Query the Google API for bicycling distances\"\"\"\n",
    "    latlon_list = ['{0},{1}'.format(lat, long)\n",
    "                   for (lat, long) in zip(stations.lat, stations.long)]\n",
    "\n",
    "    def create_url(i):\n",
    "        URL = ('https://maps.googleapis.com/maps/api/distancematrix/json?'\n",
    "               'origins={origins}&destinations={destinations}&mode=bicycling')\n",
    "        if os.path.exists(\"google_map_api_key\"):\n",
    "            import yaml\n",
    "            key=yaml.load(open(\"google_map_api_key\"))['key']\n",
    "            URL += \"&key=\" +key\n",
    "            \n",
    "        return URL.format(origins=latlon_list[i],\n",
    "                          destinations='|'.join(latlon_list[i + 1:]))\n",
    "\n",
    "    for i in range(len(latlon_list) - 1):\n",
    "        url = create_url(i)\n",
    "        filename = \"distances_{0}.json\".format(stations.terminal.iloc[i])\n",
    "        print(i, filename)\n",
    "      \n",
    "        if not os.path.exists('queried_distances/' + filename):\n",
    "            #print url\n",
    "            !curl \"{url}\" -o {filename}\n",
    "            sleep(11) # only one query per 10 seconds!\n",
    "        else:\n",
    "            print(filename + \" already retrieved before\")\n",
    "\n",
    "\n",
    "def build_distance_matrix(stations=stations):\n",
    "    \"\"\"Build a matrix from the Google API results\"\"\"\n",
    "    dist = np.zeros((len(stations), len(stations)), dtype=float)\n",
    "    \n",
    "    for i, term in enumerate(stations.terminal[:-1]):\n",
    "        filename = 'queried_distances/distances_{0}.json'.format(term)\n",
    "        \n",
    "        row = json.load(open(filename))\n",
    "        dist[i, i + 1:] = [el['distance']['value'] for el in row['rows'][0]['elements']]\n",
    "    dist += dist.T\n",
    "    distances = pd.DataFrame(dist, index=stations.terminal,\n",
    "                             columns=stations.terminal)\n",
    "    distances.to_csv('station_distances.csv')\n",
    "    return distances\n",
    "\n",
    "# only call this the first time\n",
    "if not os.path.exists('station_distances.csv'):\n",
    "    # Note: you can call this function at most ~twice per day\n",
    "    query_distances()\n",
    "\n",
    "    # Move all the queried files into a directory\n",
    "    # so we don't accidentally overwrite them\n",
    "    if not os.path.exists('queried_distances'):\n",
    "        os.makedirs('queried_distances')\n",
    "    !mv distances_*.json queried_distances\n",
    "\n",
    "    # Build distance matrix and save to CSV\n",
    "    distances = build_distance_matrix()"
   ]
  },
  {
   "cell_type": "code",
   "execution_count": 13,
   "metadata": {
    "collapsed": false
   },
   "outputs": [
    {
     "data": {
      "text/html": [
       "<div>\n",
       "<table border=\"1\" class=\"dataframe\">\n",
       "  <thead>\n",
       "    <tr style=\"text-align: right;\">\n",
       "      <th></th>\n",
       "      <th>CD-01</th>\n",
       "      <th>SLU-20</th>\n",
       "      <th>CBD-04</th>\n",
       "      <th>SLU-21</th>\n",
       "      <th>Pronto shop</th>\n",
       "    </tr>\n",
       "    <tr>\n",
       "      <th>terminal</th>\n",
       "      <th></th>\n",
       "      <th></th>\n",
       "      <th></th>\n",
       "      <th></th>\n",
       "      <th></th>\n",
       "    </tr>\n",
       "  </thead>\n",
       "  <tbody>\n",
       "    <tr>\n",
       "      <th>CD-01</th>\n",
       "      <td>0</td>\n",
       "      <td>3187</td>\n",
       "      <td>2259</td>\n",
       "      <td>4326</td>\n",
       "      <td>3646</td>\n",
       "    </tr>\n",
       "    <tr>\n",
       "      <th>SLU-20</th>\n",
       "      <td>3187</td>\n",
       "      <td>0</td>\n",
       "      <td>1058</td>\n",
       "      <td>1483</td>\n",
       "      <td>803</td>\n",
       "    </tr>\n",
       "    <tr>\n",
       "      <th>CBD-04</th>\n",
       "      <td>2259</td>\n",
       "      <td>1058</td>\n",
       "      <td>0</td>\n",
       "      <td>2178</td>\n",
       "      <td>1301</td>\n",
       "    </tr>\n",
       "    <tr>\n",
       "      <th>SLU-21</th>\n",
       "      <td>4326</td>\n",
       "      <td>1483</td>\n",
       "      <td>2178</td>\n",
       "      <td>0</td>\n",
       "      <td>895</td>\n",
       "    </tr>\n",
       "    <tr>\n",
       "      <th>Pronto shop</th>\n",
       "      <td>3646</td>\n",
       "      <td>803</td>\n",
       "      <td>1301</td>\n",
       "      <td>895</td>\n",
       "      <td>0</td>\n",
       "    </tr>\n",
       "  </tbody>\n",
       "</table>\n",
       "</div>"
      ],
      "text/plain": [
       "             CD-01  SLU-20  CBD-04  SLU-21  Pronto shop\n",
       "terminal                                               \n",
       "CD-01            0    3187    2259    4326         3646\n",
       "SLU-20        3187       0    1058    1483          803\n",
       "CBD-04        2259    1058       0    2178         1301\n",
       "SLU-21        4326    1483    2178       0          895\n",
       "Pronto shop   3646     803    1301     895            0"
      ]
     },
     "execution_count": 13,
     "metadata": {},
     "output_type": "execute_result"
    }
   ],
   "source": [
    "distances = pd.read_csv('station_distances.csv', index_col='terminal')\n",
    "distances.iloc[50:, 50:]"
   ]
  },
  {
   "cell_type": "code",
   "execution_count": 11,
   "metadata": {
    "collapsed": false
   },
   "outputs": [],
   "source": [
    "stacked = distances.stack() / 1609.34  # convert meters to miles\n",
    "stacked.name = 'distance'\n",
    "tmp = trips.join(stacked, on=['from_station_id', 'to_station_id'])\n",
    "trips['distance'] = tmp['distance']"
   ]
  },
  {
   "cell_type": "code",
   "execution_count": 12,
   "metadata": {
    "collapsed": false
   },
   "outputs": [
    {
     "data": {
      "image/png": "[encoded data removed]",
      "text/plain": [
       "<matplotlib.figure.Figure at 0x10ab2c8d0>"
      ]
     },
     "metadata": {},
     "output_type": "display_data"
    }
   ],
   "source": [
    "fig, ax = plt.subplots(1, 2, figsize=(16, 6))\n",
    "fig.subplots_adjust(wspace=0.1)\n",
    "\n",
    "trips['minutes'] = trips.tripduration / 60\n",
    "trips.groupby('usertype')['minutes'].hist(bins=np.arange(61), alpha=0.5, normed=True, ax=ax[0]);\n",
    "ax[0].set_xlabel('Duration (minutes)')\n",
    "ax[0].set_ylabel('relative frequency')\n",
    "ax[0].set_title('Trip Durations')\n",
    "ax[0].text(34, 0.09, \"Free Trips\\n\\nAdditional Fee\", ha='right',\n",
    "           size=18, rotation=90, alpha=0.5, color='red')\n",
    "ax[0].legend(['Annual Members', 'Short-term Pass'])\n",
    "ax[0].axvline(30, linestyle='--', color='red', alpha=0.3);\n",
    "\n",
    "trips['minutes'] = trips['tripduration'] / 60\n",
    "trips['speed'] = trips.distance * 60 / trips.minutes\n",
    "trips.groupby('usertype')['speed'].hist(bins=np.linspace(0, 20, 50), normed=True,\n",
    "                                        alpha=0.5, ax=ax[1])\n",
    "ax[1].set_xlabel('Minimum Speed (mph)')\n",
    "ax[1].legend(['Annual Members', 'Short-term Pass Holders'])\n",
    "ax[1].set_title('Rider Speed');\n",
    "\n",
    "fig.savefig('figs/duration_and_speed.png', bbox_inches='tight')"
   ]
  },
  {
   "cell_type": "code",
   "execution_count": null,
   "metadata": {
    "collapsed": false
   },
   "outputs": [],
   "source": [
    "g = sns.FacetGrid(trips, col=\"usertype\", hue='usertype', size=6)\n",
    "g.map(plt.scatter, \"distance\", \"speed\", s=4, alpha=0.2)\n",
    "g.axes[0, 0].axis([0, 10, 0, 25]);\n",
    "\n",
    "for axi, col in zip(g.axes.flat, ['Annual Member', 'Short-Term Pass Holder']):\n",
    "    axi.text(9.5, 16.6, \"Free Trips\\n\\nAdditional Fee\", ha='right',\n",
    "             size=17, rotation=45, alpha=0.5, color='red')\n",
    "    axi.plot([0, 20], [0, 40], '--r', alpha=0.3)\n",
    "    axi.axis([0, 10, 0, 20])\n",
    "    axi.set_title(col + 's')\n",
    "    axi.set_xlabel('Minimum Distance (miles)')\n",
    "g.axes[0, 0].set_ylabel('Minimum Speed (MPH)');\n",
    "\n",
    "g.fig.savefig('figs/distance_vs_speed.png', bbox_inches='tight')"
   ]
  },
  {
   "cell_type": "markdown",
   "metadata": {},
   "source": [
    "## Trend with Elevation"
   ]
  },
  {
   "cell_type": "code",
   "execution_count": null,
   "metadata": {
    "collapsed": false
   },
   "outputs": [],
   "source": [
    "# Get elevations from the Google Maps API\n",
    "\n",
    "def get_station_elevations(stations):\n",
    "    \"\"\"Get station elevations via Google Maps API\"\"\"\n",
    "    URL = \"https://maps.googleapis.com/maps/api/elevation/json?locations=\"\n",
    "    locs = '|'.join(['{0},{1}'.format(lat, long)\n",
    "                     for (lat, long) in zip(stations.lat, stations.long)])\n",
    "    URL += locs\n",
    "    !curl \"{URL}\" -o elevations.json\n",
    "\n",
    "\n",
    "def process_station_elevations():\n",
    "    \"\"\"Convert Elevations JSON output to CSV\"\"\"\n",
    "    D = json.load(open('elevations.json'))\n",
    "    def unnest(D):\n",
    "        loc = D.pop('location')\n",
    "        loc.update(D)\n",
    "        return loc\n",
    "    elevs = pd.DataFrame([unnest(item) for item in D['results']])\n",
    "    elevs.to_csv('station_elevations.csv')\n",
    "    return elevs\n",
    "\n",
    "# only run this the first time:\n",
    "if not os.path.exists('station_elevations.csv'):\n",
    "    get_station_elevations(stations)\n",
    "    process_station_elevations()"
   ]
  },
  {
   "cell_type": "code",
   "execution_count": null,
   "metadata": {
    "collapsed": false
   },
   "outputs": [],
   "source": [
    "elevs = pd.read_csv('station_elevations.csv', index_col=0)\n",
    "elevs.head()"
   ]
  },
  {
   "cell_type": "code",
   "execution_count": null,
   "metadata": {
    "collapsed": false
   },
   "outputs": [],
   "source": [
    "# double check that locations match\n",
    "print(np.allclose(stations.long, elevs.lng))\n",
    "print(np.allclose(stations.lat, elevs.lat))"
   ]
  },
  {
   "cell_type": "code",
   "execution_count": null,
   "metadata": {
    "collapsed": false
   },
   "outputs": [],
   "source": [
    "stations['elevation'] = elevs['elevation']\n",
    "elevs.index = stations['terminal']\n",
    "\n",
    "trips['elevation_start'] = trips.join(elevs, on='from_station_id')['elevation']\n",
    "trips['elevation_end'] = trips.join(elevs, on='to_station_id')['elevation']\n",
    "trips['elevation_gain'] = trips['elevation_end'] - trips['elevation_start']"
   ]
  },
  {
   "cell_type": "code",
   "execution_count": null,
   "metadata": {
    "collapsed": false
   },
   "outputs": [],
   "source": [
    "len(trips)"
   ]
  },
  {
   "cell_type": "code",
   "execution_count": null,
   "metadata": {
    "collapsed": false
   },
   "outputs": [],
   "source": [
    "g = sns.FacetGrid(trips, col=\"usertype\", hue='usertype')\n",
    "g.map(plt.hist, \"elevation_gain\", bins=np.arange(-145, 150, 10))\n",
    "g.fig.set_figheight(6)\n",
    "g.fig.set_figwidth(16);\n",
    "\n",
    "# plot some lines to guide the eye\n",
    "for lim in range(60, 150, 20):\n",
    "    x = np.linspace(-lim, lim, 3)\n",
    "    for ax in g.axes.flat:\n",
    "        ax.fill(x, 100 * (lim - abs(x)),\n",
    "                color='gray', alpha=0.1, zorder=0)\n",
    "        \n",
    "g.axes[0, 0].set_title('Annual Members')\n",
    "g.axes[0, 0].set_xlabel('Elevation Gain (meters)')\n",
    "g.axes[0, 0].set_ylabel('Number of Rides')\n",
    "g.axes[0, 1].set_title('Short-Term Pass Holders')\n",
    "g.axes[0, 1].set_xlabel('Elevation Gain (meters)');\n",
    "\n",
    "counts = trips.groupby(['usertype', np.sign(trips.elevation_gain)])['trip_id'].count().unstack()\n",
    "percents = (100 * (counts.T / counts.sum(axis=1)).T).astype(int)\n",
    "\n",
    "\n",
    "for i, col in enumerate(['Annual Member', 'Short-Term Pass Holder']):\n",
    "    g.axes[0, i].text(0.98, 0.98,\n",
    "                      (\"Total downhill trips: {c[0]} ({p[0]}%)\\n\"\n",
    "                       \"Total flat trips: {c[1]} ({p[1]}%)\\n\"\n",
    "                       \"Total uphill trips: {c[2]} ({p[2]}%)\".format(c=counts.loc[col].values,\n",
    "                                                                     p=percents.loc[col].values)),\n",
    "                      transform=g.axes[0, i].transAxes, ha='right', va='top', fontsize=14)\n",
    "\n",
    "g.fig.savefig('figs/elevation.png', bbox_inches='tight')"
   ]
  },
  {
   "cell_type": "code",
   "execution_count": null,
   "metadata": {
    "collapsed": false
   },
   "outputs": [],
   "source": [
    "print(\"total downhill trips:\", (trips.elevation_gain < 0).sum())\n",
    "print(\"total uphill trips:  \", (trips.elevation_gain > 0).sum())"
   ]
  },
  {
   "cell_type": "markdown",
   "metadata": {},
   "source": [
    "## Trend with Weather"
   ]
  },
  {
   "cell_type": "code",
   "execution_count": null,
   "metadata": {
    "collapsed": false
   },
   "outputs": [],
   "source": [
    "weather = pd.read_csv('2015_weather_data.csv', index_col='Date', parse_dates=True)\n",
    "weather.columns"
   ]
  },
  {
   "cell_type": "code",
   "execution_count": null,
   "metadata": {
    "collapsed": false
   },
   "outputs": [],
   "source": [
    "by_date = trips.groupby(['date', 'usertype'])['trip_id'].count()\n",
    "by_date.name = 'count'\n",
    "by_date = by_date.reset_index('usertype').join(weather)"
   ]
  },
  {
   "cell_type": "code",
   "execution_count": null,
   "metadata": {
    "collapsed": false
   },
   "outputs": [],
   "source": [
    "# add a flag indicating weekend\n",
    "by_date['weekend'] = (by_date.index.dayofweek >= 5)\n",
    "\n",
    "#----------------------------------------------------------------\n",
    "# Plot Temperature Trend\n",
    "g = sns.FacetGrid(by_date, col=\"weekend\", hue='usertype', size=6)\n",
    "g.map(sns.regplot, \"Mean_Temperature_F\", \"count\")\n",
    "g.add_legend();\n",
    "\n",
    "# do some formatting\n",
    "g.axes[0, 0].set_title('')\n",
    "g.axes[0, 1].set_title('')\n",
    "g.axes[0, 0].text(0.05, 0.95, 'Monday - Friday', va='top', size=14,\n",
    "                  transform=g.axes[0, 0].transAxes)\n",
    "g.axes[0, 1].text(0.05, 0.95, 'Saturday - Sunday', va='top', size=14,\n",
    "                  transform=g.axes[0, 1].transAxes)\n",
    "g.fig.text(0.45, 1, \"Trend With Temperature\", ha='center', va='top', size=16);\n",
    "for ax in g.axes.flat:\n",
    "    ax.set_xlabel('Mean Temperature (F)')\n",
    "g.axes.flat[0].set_ylabel('Rider Count')\n",
    "g.fig.savefig('figs/temperature.png', bbox_inches='tight')"
   ]
  },
  {
   "cell_type": "code",
   "execution_count": null,
   "metadata": {
    "collapsed": false
   },
   "outputs": [],
   "source": [
    "#----------------------------------------------------------------\n",
    "# Plot Precipitation\n",
    "g = sns.FacetGrid(by_date, col=\"weekend\", hue='usertype', size=6)\n",
    "g.map(sns.regplot, \"Precipitation_In \", \"count\")\n",
    "g.add_legend();\n",
    "\n",
    "# do some formatting\n",
    "g.axes[0, 0].set_ylim(-50, 600);\n",
    "g.axes[0, 0].set_title('')\n",
    "g.axes[0, 1].set_title('')\n",
    "g.axes[0, 0].text(0.95, 0.95, 'Monday - Friday', ha='right', va='top', size=14,\n",
    "                  transform=g.axes[0, 0].transAxes)\n",
    "g.axes[0, 1].text(0.95, 0.95, 'Saturday - Sunday', ha='right', va='top', size=14,\n",
    "                  transform=g.axes[0, 1].transAxes)\n",
    "g.fig.text(0.45, 1, \"Trend With Precipitation\", ha='center', va='top', size=16);\n",
    "for ax in g.axes.flat:\n",
    "    ax.set_xlabel('Precipitation (inches)')\n",
    "g.axes.flat[0].set_ylabel('Rider Count');\n",
    "g.fig.savefig('figs/precipitation.png', bbox_inches='tight')"
   ]
  }
 ],
 "metadata": {
  "kernelspec": {
   "display_name": "Python 2",
   "language": "python",
   "name": "python2"
  },
  "language_info": {
   "codemirror_mode": {
    "name": "ipython",
    "version": 2
   },
   "file_extension": ".py",
   "mimetype": "text/x-python",
   "name": "python",
   "nbconvert_exporter": "python",
   "pygments_lexer": "ipython2",
   "version": "2.7.11"
  }
 },
 "nbformat": 4,
 "nbformat_minor": 0
}
